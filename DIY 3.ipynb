{
 "cells": [
  {
   "cell_type": "code",
   "execution_count": 1,
   "metadata": {},
   "outputs": [],
   "source": [
    "import pandas as pd\n",
    "import numpy as np\n",
    "import matplotlib.pyplot as plt"
   ]
  },
  {
   "cell_type": "code",
   "execution_count": 2,
   "metadata": {},
   "outputs": [],
   "source": [
    "o={'Cause of Deaths':['Others','Chronic Disease', 'Unintetional Injuries', 'Alzheimers', 'Infuenza and Pneumonia','Sepsis'],'Percentile':[26,62, 5, 4, 2, 1 ]}"
   ]
  },
  {
   "cell_type": "code",
   "execution_count": 3,
   "metadata": {},
   "outputs": [],
   "source": [
    "od=pd.DataFrame(o)"
   ]
  },
  {
   "cell_type": "code",
   "execution_count": 4,
   "metadata": {},
   "outputs": [
    {
     "data": {
      "text/html": [
       "<div>\n",
       "<style scoped>\n",
       "    .dataframe tbody tr th:only-of-type {\n",
       "        vertical-align: middle;\n",
       "    }\n",
       "\n",
       "    .dataframe tbody tr th {\n",
       "        vertical-align: top;\n",
       "    }\n",
       "\n",
       "    .dataframe thead th {\n",
       "        text-align: right;\n",
       "    }\n",
       "</style>\n",
       "<table border=\"1\" class=\"dataframe\">\n",
       "  <thead>\n",
       "    <tr style=\"text-align: right;\">\n",
       "      <th></th>\n",
       "      <th>Cause of Deaths</th>\n",
       "      <th>Percentile</th>\n",
       "    </tr>\n",
       "  </thead>\n",
       "  <tbody>\n",
       "    <tr>\n",
       "      <th>0</th>\n",
       "      <td>Others</td>\n",
       "      <td>26</td>\n",
       "    </tr>\n",
       "    <tr>\n",
       "      <th>1</th>\n",
       "      <td>Chronic Disease</td>\n",
       "      <td>62</td>\n",
       "    </tr>\n",
       "    <tr>\n",
       "      <th>2</th>\n",
       "      <td>Unintetional Injuries</td>\n",
       "      <td>5</td>\n",
       "    </tr>\n",
       "    <tr>\n",
       "      <th>3</th>\n",
       "      <td>Alzheimers</td>\n",
       "      <td>4</td>\n",
       "    </tr>\n",
       "    <tr>\n",
       "      <th>4</th>\n",
       "      <td>Infuenza and Pneumonia</td>\n",
       "      <td>2</td>\n",
       "    </tr>\n",
       "    <tr>\n",
       "      <th>5</th>\n",
       "      <td>Sepsis</td>\n",
       "      <td>1</td>\n",
       "    </tr>\n",
       "  </tbody>\n",
       "</table>\n",
       "</div>"
      ],
      "text/plain": [
       "          Cause of Deaths  Percentile\n",
       "0                  Others          26\n",
       "1         Chronic Disease          62\n",
       "2   Unintetional Injuries           5\n",
       "3              Alzheimers           4\n",
       "4  Infuenza and Pneumonia           2\n",
       "5                  Sepsis           1"
      ]
     },
     "execution_count": 4,
     "metadata": {},
     "output_type": "execute_result"
    }
   ],
   "source": [
    "od"
   ]
  },
  {
   "cell_type": "code",
   "execution_count": 6,
   "metadata": {},
   "outputs": [
    {
     "data": {
      "text/plain": [
       "([<matplotlib.patches.Wedge at 0x7fa247dd4ad0>,\n",
       "  <matplotlib.patches.Wedge at 0x7fa247d61250>,\n",
       "  <matplotlib.patches.Wedge at 0x7fa247d61210>,\n",
       "  <matplotlib.patches.Wedge at 0x7fa247d6b250>,\n",
       "  <matplotlib.patches.Wedge at 0x7fa247d6bc50>,\n",
       "  <matplotlib.patches.Wedge at 0x7fa247d7a510>],\n",
       " [Text(0.7530018405458981, 0.8018654676031947, 'Others'),\n",
       "  Text(-0.9953097787609891, -0.4683571759915195, 'Chronic Disease'),\n",
       "  Text(0.9097886146248665, -0.6182917407656086, 'Unintetional Injuries'),\n",
       "  Text(1.046162158377023, -0.3399187231970735, 'Alzheimers'),\n",
       "  Text(1.0913261669926655, -0.13786659217191385, 'Infuenza and Pneumonia'),\n",
       "  Text(1.0994572152134503, -0.0345518728158815, 'Sepsis')],\n",
       " [Text(0.41072827666139894, 0.437381164147197, '26%'),\n",
       "  Text(-0.5428962429605395, -0.25546755054082876, '62%'),\n",
       "  Text(0.49624833524992706, -0.3372500404176046, '5%'),\n",
       "  Text(0.5706339045692852, -0.18541021265294919, '4%'),\n",
       "  Text(0.5952688183596356, -0.07519995936649847, '2%'),\n",
       "  Text(0.5997039355709729, -0.018846476081389906, '1%')])"
      ]
     },
     "execution_count": 6,
     "metadata": {},
     "output_type": "execute_result"
    },
    {
     "data": {
      "image/png": "[encoded data removed]",
      "text/plain": [
       "<Figure size 432x288 with 1 Axes>"
      ]
     },
     "metadata": {},
     "output_type": "display_data"
    }
   ],
   "source": [
    "plt.pie(od['Percentile'],labels=od['Cause of Deaths'],autopct='%.0f%%')"
   ]
  },
  {
   "cell_type": "code",
   "execution_count": null,
   "metadata": {},
   "outputs": [],
   "source": []
  }
 ],
 "metadata": {
  "kernelspec": {
   "display_name": "Python 3",
   "language": "python",
   "name": "python3"
  },
  "language_info": {
   "codemirror_mode": {
    "name": "ipython",
    "version": 3
   },
   "file_extension": ".py",
   "mimetype": "text/x-python",
   "name": "python",
   "nbconvert_exporter": "python",
   "pygments_lexer": "ipython3",
   "version": "3.7.6"
  }
 },
 "nbformat": 4,
 "nbformat_minor": 4
}
